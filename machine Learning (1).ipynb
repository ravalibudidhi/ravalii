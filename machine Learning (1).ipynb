{
 "cells": [
  {
   "cell_type": "code",
   "execution_count": 12,
   "metadata": {},
   "outputs": [
    {
     "name": "stdout",
     "output_type": "stream",
     "text": [
      "the max age is 26\n",
      "the min age is 19\n",
      "[19, 19, 19, 20, 22, 24, 24, 24, 25, 25, 26, 26]\n",
      "The median is 24.0\n",
      "The average age is 22.75\n",
      "The range of ages is 7\n"
     ]
    }
   ],
   "source": [
    "#Question 1\n",
    "\n",
    "ages=[19,22,19,24,20,25,26,24,25,24]\n",
    "ages.sort()\n",
    "max_age=ages[-1]\n",
    "\n",
    "print(\"the max age is\",max_age)\n",
    "\n",
    "min_age=ages[0]\n",
    "\n",
    "print(\"the min age is\",min_age)\n",
    "\n",
    "ages.extend([min_age,max_age])\n",
    "ages.sort()\n",
    "print(ages)\n",
    "#finding the median\n",
    "mid=len(ages)//2\n",
    "med=(ages[mid]+ages[~mid])/2\n",
    "\n",
    "print(\"The median is\",med)\n",
    "\n",
    "#finding average age\n",
    "average_age=sum(ages)/len(ages)\n",
    "\n",
    "print(\"The average age is\",average_age)\n",
    "\n",
    "range_of_ages=max_age-min_age\n",
    "\n",
    "print(\"The range of ages is\",range_of_ages)"
   ]
  },
  {
   "cell_type": "code",
   "execution_count": 23,
   "metadata": {},
   "outputs": [
    {
     "name": "stdout",
     "output_type": "stream",
     "text": [
      "{'name': None, 'color': None, 'breed': None, 'legs': None, 'age': None}\n",
      "length of student dictionary is 9\n",
      "<class 'list'>\n",
      "{'first_name': 'Jack', 'last_name': 'Martson', 'gender': 'Male', 'age': 20, 'marital_status': 'single', 'skills': ['programmer', 'kickboxer', 'Hunter'], 'country': 'Russia', 'city': 'pittersburg', 'address': 1456}\n",
      "['first_name', 'last_name', 'gender', 'age', 'marital_status', 'skills', 'country', 'city', 'address']\n",
      "['Jack', 'Martson', 'Male', 20, 'single', ['programmer', 'kickboxer', 'Hunter'], 'Russia', 'pittersburg', 1456]\n"
     ]
    }
   ],
   "source": [
    "#Question 2\n",
    "\n",
    "#creating empty dictionary\n",
    "\n",
    "dog={}\n",
    "\n",
    "#adding keys to the dictionary\n",
    "\n",
    "dog.update({\"name\":None,\"color\":None,\"breed\":None,\"legs\":None,\"age\":None})\n",
    "\n",
    "print(dog)\n",
    "\n",
    "student={\"first_name\":\"Jack\",\n",
    "\"last_name\":\"Martson\",\n",
    "\"gender\":\"Male\",\n",
    "\"age\":20,\n",
    "\"marital_status\":\"single\",\n",
    "\"skills\":['programmer','kickboxer'],\n",
    "\"country\":\"Russia\",\n",
    "\"city\":\"pittersburg\",\n",
    "\"address\":1456\n",
    "}\n",
    "\n",
    "print(\"length of student dictionary is\",len(student))\n",
    "\n",
    "\n",
    "print(type(student[\"skills\"]))\n",
    "\n",
    "student[\"skills\"].append(\"Hunter\")\n",
    "print(student)\n",
    "\n",
    "# getting dictionary values as a list\n",
    "key_list=[]\n",
    "for key in student:\n",
    "    key_list.append(key)\n",
    "\n",
    "print(key_list)\n",
    "\n",
    "\n",
    "# getting values as list\n",
    "value_list=[]\n",
    "for val in student:\n",
    "    value_list.append(student[val])\n",
    "\n",
    "print(value_list)"
   ]
  },
  {
   "cell_type": "code",
   "execution_count": 27,
   "metadata": {},
   "outputs": [
    {
     "name": "stdout",
     "output_type": "stream",
     "text": [
      "('Arthur', 'Lenny', 'John', 'charles', 'Sadie', 'Tilly', 'Mary')\n",
      "I have 7 siblings\n",
      "('Arthur', 'Lenny', 'John', 'charles', 'Sadie', 'Tilly', 'Mary', 'Dutch', 'Molly')\n"
     ]
    }
   ],
   "source": [
    "#Question 3\n",
    "\n",
    "#creating the tuples\n",
    "bros=(\"Arthur\",\"Lenny\",\"John\",\"charles\")\n",
    "sizs=(\"Sadie\",\"Tilly\",\"Mary\")\n",
    "\n",
    "\n",
    "#joining the two tupples\n",
    "siblings=bros+sizs\n",
    "\n",
    "print(siblings)\n",
    "\n",
    "print(f\"I have {len(siblings)} siblings\")\n",
    "\n",
    "#modifying the siblings tuple to add father and mothers name\n",
    "\n",
    "fam=list(siblings)\n",
    "\n",
    "fam.extend([\"Dutch\",\"Molly\"])\n",
    "\n",
    "family_members=tuple(fam)\n",
    "print(family_members)\n"
   ]
  },
  {
   "cell_type": "code",
   "execution_count": 41,
   "metadata": {},
   "outputs": [
    {
     "name": "stdout",
     "output_type": "stream",
     "text": [
      "Length of it-companies is 7\n",
      "{'Oracle', 'IBM', 'Instagram', 'Whatsapp', 'Google', 'Amazon', 'Facebook', 'Apple', 'Microsoft', 'Twitter'}\n",
      "{'Oracle', 'IBM', 'Instagram', 'Google', 'Amazon', 'Facebook', 'Apple', 'Microsoft', 'Twitter'}\n",
      "{19, 20, 22, 24, 25, 26, 27, 28}\n",
      "{19, 20, 22, 24, 25, 26}\n",
      "True\n",
      "False\n",
      "joined A and B {19, 20, 22, 24, 25, 26, 27, 28}\n",
      "joined B and A {19, 20, 22, 24, 25, 26, 27, 28}\n",
      "The symmetric difference is {27, 28}\n",
      "The length of the age list is 8 while that of age set is 5 \n"
     ]
    }
   ],
   "source": [
    "#Question 4\n",
    "from pyrsistent import discard\n",
    "\n",
    "\n",
    "it_companies = {'Facebook', 'Google', 'Microsoft', 'Apple', 'IBM', 'Oracle', 'Amazon'}\n",
    "A = {19, 22, 24, 20, 25, 26}\n",
    "B = {19, 22, 20, 25, 26, 24, 28, 27}\n",
    "age = [22, 19, 24, 25, 26, 24, 25, 24]\n",
    "\n",
    "print(\"Length of it-companies is\",len(it_companies))\n",
    "\n",
    "#adding twitter\n",
    "it_companies.add(\"Twitter\")\n",
    "\n",
    "#adding multiple it companies to the set it_companies\n",
    "\n",
    "it_companies.update([\"Instagram\",\"Whatsapp\"])\n",
    "\n",
    "print(it_companies)\n",
    "\n",
    "#remove one of the it companies from the set\n",
    "it_companies.remove(\"Whatsapp\")\n",
    "\n",
    "print(it_companies)\n",
    "\n",
    "# The difference between remove and discard\n",
    "# is that remove will raise an error if\n",
    "# the item does not exist\n",
    "\n",
    "#Joining A and B\n",
    "C=A.union(B)\n",
    "\n",
    "print(C)\n",
    "\n",
    "#finding A intersection B\n",
    "D=A.intersection(B)\n",
    "\n",
    "print(D)\n",
    "#checking if A is a subset of B\n",
    "X=A.issubset(B)\n",
    "\n",
    "print(X)\n",
    "#Checking if is disjoint\n",
    "Z=A.isdisjoint(B)\n",
    "print(Z)\n",
    "\n",
    "#joining A and B\n",
    "\n",
    "AB=A.union(B)\n",
    "\n",
    "print(\"joined A and B\",AB)\n",
    "\n",
    "#joining B and A\n",
    "\n",
    "BA=B.union(A)\n",
    "print(\"joined B and A\",BA)\n",
    "\n",
    "#symmetric difference\n",
    "sym=A.symmetric_difference(B)\n",
    "\n",
    "print(\"The symmetric difference is\",sym)\n",
    "\n",
    "del A\n",
    "del B\n",
    "\n",
    "age_set=set(age)\n",
    "print(f\"The length of the age list is {len(age)} while that of age set is {len(age_set)} \")\n",
    "\n",
    "\n"
   ]
  },
  {
   "cell_type": "code",
   "execution_count": 45,
   "metadata": {},
   "outputs": [
    {
     "name": "stdout",
     "output_type": "stream",
     "text": [
      "The area is 2826.0\n",
      "The circumference is 188.4\n",
      "your area is 153.86\n"
     ]
    }
   ],
   "source": [
    "#Question 5\n",
    "\n",
    "r=30\n",
    "pi=3.14\n",
    "_area_of_circle_=pi*r*r\n",
    "print(\"The area is\", _area_of_circle_)\n",
    "_circum_of_circle_=pi*(r*2)\n",
    "print(\"The circumference is\", _circum_of_circle_)\n",
    "\n",
    "radius=float(input(\"Enter radius: \"))\n",
    "area=pi*radius*radius\n",
    "print(\"your area is\" ,area)"
   ]
  },
  {
   "cell_type": "code",
   "execution_count": 48,
   "metadata": {},
   "outputs": [
    {
     "name": "stdout",
     "output_type": "stream",
     "text": [
      "the uniq words are {'love', 'a', 'and', 'am', 'people', 'I', 'to', 'teach', 'inspire', 'teacher'}\n"
     ]
    }
   ],
   "source": [
    "#Question 6\n",
    "\n",
    "statement=\"I am a teacher and I love to inspire and teach people\"\n",
    "\n",
    "#making a list of the words the adding them to a set to remove repetition\n",
    "uniq_words=statement.split()\n",
    "uniq_word_set=set(uniq_words)\n",
    "print(\"the uniq words are\",uniq_word_set)"
   ]
  },
  {
   "cell_type": "code",
   "execution_count": 49,
   "metadata": {},
   "outputs": [
    {
     "name": "stdout",
     "output_type": "stream",
     "text": [
      "Name\n",
      "Age\n",
      "Country\n",
      "City\n",
      "Asabeneh\n",
      "250\n",
      "Finland\n",
      "Helsinki\n"
     ]
    }
   ],
   "source": [
    "#Question 7\n",
    "print(\"Name\\nAge\\nCountry\\nCity\\nAsabeneh\\n250\\nFinland\\nHelsinki\")\n"
   ]
  },
  {
   "cell_type": "code",
   "execution_count": 57,
   "metadata": {},
   "outputs": [
    {
     "name": "stdout",
     "output_type": "stream",
     "text": [
      "The area of a circle with radius 10 is 314.0 meters square\n"
     ]
    }
   ],
   "source": [
    "#Question 8\n",
    "radius = 10\n",
    "area = 3.14 * radius ** 2\n",
    "print(\"The area of a circle with radius {} is {} meters square\".format(radius,area))"
   ]
  },
  {
   "cell_type": "code",
   "execution_count": 61,
   "metadata": {},
   "outputs": [
    {
     "name": "stdout",
     "output_type": "stream",
     "text": [
      "[68.10000000000001, 70.37, 65.83, 67.19200000000001]\n"
     ]
    }
   ],
   "source": [
    "#Question 9\n",
    "\n",
    "weights_in_lbs=input(\"Enter weights: \").split(\",\")\n",
    "\n",
    "weights_in_KG=[]\n",
    "\n",
    "for w in weights_in_lbs:\n",
    "    weights_in_KG.append(float(w)*0.454)\n",
    "\n",
    "print(weights_in_KG)\n"
   ]
  },
  {
   "cell_type": "code",
   "execution_count": null,
   "metadata": {},
   "outputs": [],
   "source": []
  }
 ],
 "metadata": {
  "kernelspec": {
   "display_name": "Python 3.10.5 64-bit (windows store)",
   "language": "python",
   "name": "python3"
  },
  "language_info": {
   "codemirror_mode": {
    "name": "ipython",
    "version": 3
   },
   "file_extension": ".py",
   "mimetype": "text/x-python",
   "name": "python",
   "nbconvert_exporter": "python",
   "pygments_lexer": "ipython3",
   "version": "3.10.5"
  },
  "orig_nbformat": 4,
  "vscode": {
   "interpreter": {
    "hash": "486e0d5a79acdbfffd563ee7a67a93a5017bd2a4f66495483a69f0245c8a4a6c"
   }
  }
 },
 "nbformat": 4,
 "nbformat_minor": 2
}
